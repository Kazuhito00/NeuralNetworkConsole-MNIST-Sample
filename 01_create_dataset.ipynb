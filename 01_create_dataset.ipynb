{
 "cells": [
  {
   "cell_type": "markdown",
   "metadata": {},
   "source": [
    "### MNISTダウンロード"
   ]
  },
  {
   "cell_type": "code",
   "execution_count": 1,
   "metadata": {},
   "outputs": [],
   "source": [
    "import urllib.request\n",
    "\n",
    "url_base = 'http://yann.lecun.com/exdb/mnist/'\n",
    "download_file = {\n",
    "    'train_image':'train-images-idx3-ubyte.gz',\n",
    "    'train_label':'train-labels-idx1-ubyte.gz',\n",
    "    'test_image':'t10k-images-idx3-ubyte.gz',\n",
    "    'test_label':'t10k-labels-idx1-ubyte.gz'\n",
    "}"
   ]
  },
  {
   "cell_type": "code",
   "execution_count": 2,
   "metadata": {},
   "outputs": [],
   "source": [
    "dataset_dir = '01.original_data'\n",
    "\n",
    "for file in download_file.values():\n",
    "    file_path = dataset_dir + '/' + file\n",
    "    urllib.request.urlretrieve(url_base + file, file_path)"
   ]
  },
  {
   "cell_type": "code",
   "execution_count": 3,
   "metadata": {},
   "outputs": [],
   "source": [
    "import gzip\n",
    "\n",
    "for file in download_file.values():\n",
    "    gz_file = dataset_dir + '/' + file\n",
    "    raw_file = dataset_dir + '/' + file.replace('.gz','')\n",
    "    with gzip.open(gz_file, 'rb') as fp:\n",
    "        body = fp.read()\n",
    "        with open(raw_file, 'wb') as w:\n",
    "            w.write(body)"
   ]
  },
  {
   "cell_type": "markdown",
   "metadata": {},
   "source": [
    "### 画像ファイル保存"
   ]
  },
  {
   "cell_type": "code",
   "execution_count": 4,
   "metadata": {},
   "outputs": [],
   "source": [
    "dataset_output_path = '02.data'\n",
    "train_image_path = dataset_dir + '/' + download_file['train_image'].replace('.gz','')\n",
    "train_label_path = dataset_dir + '/' + download_file['train_label'].replace('.gz','')\n",
    "test_image_path = dataset_dir + '/' + download_file['test_image'].replace('.gz','')\n",
    "test_label_path = dataset_dir + '/' + download_file['test_label'].replace('.gz','')"
   ]
  },
  {
   "cell_type": "code",
   "execution_count": 5,
   "metadata": {},
   "outputs": [],
   "source": [
    "import struct\n",
    "import numpy as np\n",
    "from PIL import Image\n",
    "\n",
    "def create_mnist_dataset(image_path, label_path, output_path):\n",
    "    image_file = open(image_path, 'rb')\n",
    "    magic_number      = struct.unpack('>i', image_file.read(4))[0]\n",
    "    number_of_images  = struct.unpack('>i', image_file.read(4))[0]\n",
    "    number_of_rows    = struct.unpack('>i', image_file.read(4))[0]\n",
    "    number_of_columns = struct.unpack('>i', image_file.read(4))[0]\n",
    "    bytes_per_image = number_of_rows * number_of_columns \n",
    "    format = '%dB' % bytes_per_image\n",
    "    \n",
    "    label_file = open(label_path, 'rb')\n",
    "    magic_number, label_count = struct.unpack('>II', label_file.read(8))\n",
    "    \n",
    "                      \n",
    "    for index in range(0, number_of_images):\n",
    "        label = struct.unpack('B', label_file.read(1))[0]\n",
    "\n",
    "        raw_image = image_file.read(bytes_per_image)\n",
    "        linear_image = struct.unpack(format, raw_image)\n",
    "        np_array  = np.asarray(linear_image).astype('uint8')\n",
    "        np_array  = np.reshape(np_array, (28,28),order='C')\n",
    "        pil_image = Image.fromarray(np_array)\n",
    "        output_image_path   = output_path + '/' + str(label) + '/' + '%05d.png' % index\n",
    "        pil_image.save(output_image_path)"
   ]
  },
  {
   "cell_type": "code",
   "execution_count": 6,
   "metadata": {},
   "outputs": [],
   "source": [
    "import os\n",
    "\n",
    "for number in range(10):\n",
    "    os.makedirs(dataset_output_path + '/' + 'train' + '/' + str(number))\n",
    "    os.makedirs(dataset_output_path + '/' + 'test' + '/' + str(number))"
   ]
  },
  {
   "cell_type": "code",
   "execution_count": 7,
   "metadata": {},
   "outputs": [],
   "source": [
    "create_mnist_dataset(train_image_path, train_label_path, dataset_output_path + '/' + 'train')\n",
    "create_mnist_dataset(test_image_path, test_label_path, dataset_output_path + '/' + 'test')"
   ]
  }
 ],
 "metadata": {
  "kernelspec": {
   "display_name": "Python 3",
   "language": "python",
   "name": "python3"
  },
  "language_info": {
   "codemirror_mode": {
    "name": "ipython",
    "version": 3
   },
   "file_extension": ".py",
   "mimetype": "text/x-python",
   "name": "python",
   "nbconvert_exporter": "python",
   "pygments_lexer": "ipython3",
   "version": "3.8.5"
  }
 },
 "nbformat": 4,
 "nbformat_minor": 4
}
