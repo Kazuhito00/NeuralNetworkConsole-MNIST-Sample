{
 "cells": [
  {
   "cell_type": "markdown",
   "metadata": {},
   "source": [
    "### 画像読み込み"
   ]
  },
  {
   "cell_type": "code",
   "execution_count": 12,
   "metadata": {},
   "outputs": [],
   "source": [
    "import numpy as np\n",
    "from IPython.display import Image, display_png\n",
    "from PIL import Image"
   ]
  },
  {
   "cell_type": "code",
   "execution_count": 9,
   "metadata": {},
   "outputs": [
    {
     "data": {
      "image/png": "[encoded data removed]"
     },
     "metadata": {},
     "output_type": "display_data"
    }
   ],
   "source": [
    "image = Image.open('02.data/test/4/00004.png')\n",
    "image = image.resize((28, 28))\n",
    "display_png(image)"
   ]
  },
  {
   "cell_type": "markdown",
   "metadata": {},
   "source": [
    "### 推論"
   ]
  },
  {
   "cell_type": "code",
   "execution_count": 1,
   "metadata": {},
   "outputs": [],
   "source": [
    "import onnxruntime"
   ]
  },
  {
   "cell_type": "code",
   "execution_count": 3,
   "metadata": {},
   "outputs": [],
   "source": [
    "# モデルロード\n",
    "onnx_session = onnxruntime.InferenceSession('05.model/model_20210411_091510.onnx')"
   ]
  },
  {
   "cell_type": "code",
   "execution_count": 4,
   "metadata": {},
   "outputs": [
    {
     "name": "stdout",
     "output_type": "stream",
     "text": [
      "NodeArg(name='Input', type='tensor(float)', shape=[1, 1, 28, 28])\n"
     ]
    }
   ],
   "source": [
    "# 入力情報詳細確認\n",
    "print(onnx_session.get_inputs()[0])"
   ]
  },
  {
   "cell_type": "code",
   "execution_count": 14,
   "metadata": {},
   "outputs": [],
   "source": [
    "input_name = onnx_session.get_inputs()[0].name\n",
    "output_name = onnx_session.get_outputs()[0].name"
   ]
  },
  {
   "cell_type": "code",
   "execution_count": 18,
   "metadata": {},
   "outputs": [],
   "source": [
    "# 入力画像成形、および正規化\n",
    "x = image.convert('L')\n",
    "x = np.asarray(x)\n",
    "x = x.reshape(1, 1, 28, 28)\n",
    "x = x.astype('float32')\n",
    "x /= 255"
   ]
  },
  {
   "cell_type": "code",
   "execution_count": 19,
   "metadata": {},
   "outputs": [],
   "source": [
    "predict_result = onnx_session.run([output_name], {input_name: x})"
   ]
  },
  {
   "cell_type": "code",
   "execution_count": 21,
   "metadata": {},
   "outputs": [
    {
     "name": "stdout",
     "output_type": "stream",
     "text": [
      "[array([[7.18745184e-07, 2.32111802e-06, 1.14314936e-07, 2.13814292e-06,\n",
      "        9.99992013e-01, 6.25232772e-08, 3.66259854e-07, 4.88073582e-08,\n",
      "        9.14994473e-07, 1.28220756e-06]], dtype=float32)]\n",
      "4\n"
     ]
    }
   ],
   "source": [
    "print(predict_result)\n",
    "print(np.argmax(predict_result))"
   ]
  }
 ],
 "metadata": {
  "kernelspec": {
   "display_name": "Python 3",
   "language": "python",
   "name": "python3"
  },
  "language_info": {
   "codemirror_mode": {
    "name": "ipython",
    "version": 3
   },
   "file_extension": ".py",
   "mimetype": "text/x-python",
   "name": "python",
   "nbconvert_exporter": "python",
   "pygments_lexer": "ipython3",
   "version": "3.8.5"
  }
 },
 "nbformat": 4,
 "nbformat_minor": 4
}
